{
 "cells": [
  {
   "cell_type": "markdown",
   "metadata": {},
   "source": [
    "Interface com o arquivo `dadger`"
   ]
  },
  {
   "cell_type": "markdown",
   "metadata": {},
   "source": [
    "Este exemplo demonstra a capacidade de interação da `idecomp` com o arquivo de dados gerais, geralmente denominado `dadger.rvX` em casos oficiais. \n",
    "\n",
    "Primeiramente, é necessário realizar a importação:"
   ]
  },
  {
   "cell_type": "code",
   "execution_count": null,
   "metadata": {},
   "outputs": [],
   "source": [
    "from idecomp.decomp import Dadger"
   ]
  }
 ],
 "metadata": {
  "kernelspec": {
   "display_name": "Python 3.10.7 ('venv': venv)",
   "language": "python",
   "name": "python3"
  },
  "language_info": {
   "name": "python",
   "version": "3.10.7"
  },
  "orig_nbformat": 4,
  "vscode": {
   "interpreter": {
    "hash": "9fb83c680ed51839e88e863352d1b2bf752a01aa1806ed1beffa0263c74ca341"
   }
  }
 },
 "nbformat": 4,
 "nbformat_minor": 2
}
