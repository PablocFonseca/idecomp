{
  "cells": [
    {
      "cell_type": "code",
      "execution_count": null,
      "metadata": {
        "collapsed": false
      },
      "outputs": [],
      "source": [
        "%matplotlib inline"
      ]
    },
    {
      "cell_type": "markdown",
      "metadata": {},
      "source": [
        "\n# vazoes.dat\n"
      ]
    },
    {
      "cell_type": "markdown",
      "metadata": {},
      "source": [
        "O primeiro passo para realizar o processamento do arquivo, assim como os\ndemais arquivos de sa\u00edda, \u00e9 a leitura. A fun\u00e7\u00e3o de leitura recebe dois argumentos,\nsendo que o segundo \u00e9 opcional.\n\n"
      ]
    },
    {
      "cell_type": "code",
      "execution_count": null,
      "metadata": {
        "collapsed": false
      },
      "outputs": [],
      "source": [
        "from idecomp.decomp import Vazoes\n\narq = Vazoes.le_arquivo(\".\", nome_arquivo=\"vazoes.rv0\")"
      ]
    },
    {
      "cell_type": "markdown",
      "metadata": {},
      "source": [
        "O arquivo de vaz\u00f5es cont\u00e9m informa\u00e7\u00f5es do hist\u00f3rico de vaz\u00f5es por posto de medi\u00e7\u00e3o, servindo\nde entrada para os modelos de planejamento.\n\n"
      ]
    },
    {
      "cell_type": "code",
      "execution_count": null,
      "metadata": {
        "collapsed": false
      },
      "outputs": [],
      "source": [
        "df = arq.vazoes\nprint(df)"
      ]
    },
    {
      "cell_type": "markdown",
      "metadata": {},
      "source": [
        "A partir deste dataframe \u00e9 poss\u00edvel realizar an\u00e1lises e produzir visualiza\u00e7\u00f5es. Por exemplo,\nutilizando o m\u00f3dulo plotly. Deste ponto em diante, n\u00e3o \u00e9 mais necess\u00e1rio o conhecimento\nespec\u00edfico do arquivo ou da idecomp.\n\n"
      ]
    },
    {
      "cell_type": "code",
      "execution_count": null,
      "metadata": {
        "collapsed": false
      },
      "outputs": [],
      "source": [
        "import plotly.graph_objects as go\n\n# sphinx_gallery_thumbnail_number = 1\nfig = go.Figure()\nfig.add_trace(go.Scatter(x=df.index, y=[df[\"66\"]], name=\"Vazao Posto 66\"))\nfig"
      ]
    }
  ],
  "metadata": {
    "kernelspec": {
      "display_name": "Python 3",
      "language": "python",
      "name": "python3"
    },
    "language_info": {
      "codemirror_mode": {
        "name": "ipython",
        "version": 3
      },
      "file_extension": ".py",
      "mimetype": "text/x-python",
      "name": "python",
      "nbconvert_exporter": "python",
      "pygments_lexer": "ipython3",
      "version": "3.10.9"
    }
  },
  "nbformat": 4,
  "nbformat_minor": 0
}